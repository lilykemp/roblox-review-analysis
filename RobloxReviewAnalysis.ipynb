{
 "cells": [
  {
   "cell_type": "code",
   "execution_count": null,
   "id": "23deebfd-2103-4770-947e-f5858c3ee6f2",
   "metadata": {},
   "outputs": [],
   "source": [
    "import pandas as pd\n",
    "import matplotlib.pyplot as plt\n",
    "%matplotlib inline\n",
    "%config InlineBackend.figure_format ='retina'\n",
    "import nltk\n",
    "import numpy as np\n",
    "from textblob import TextBlob\n",
    "from textblob import Word\n",
    "import seaborn as sns"
   ]
  },
  {
   "cell_type": "code",
   "execution_count": null,
   "id": "54c8b68c-6bac-4352-8060-41c022c18ed6",
   "metadata": {},
   "outputs": [],
   "source": [
    "# Import the dataset and check the contents\n",
    "robloxData = pd.read_csv(\"ROBLOX_REVIEWS.csv\")"
   ]
  },
  {
   "cell_type": "code",
   "execution_count": null,
   "id": "e24ec1c1-6725-428a-88f8-ad578e1a4222",
   "metadata": {},
   "outputs": [],
   "source": [
    "# Drop the column that counts up from 1\n",
    "robloxData = robloxData.drop(columns=['Unnamed: 0', 'review_id', 'pseudo_author_id'])"
   ]
  },
  {
   "cell_type": "code",
   "execution_count": null,
   "id": "ee991dfe-77b9-48ef-9d76-fb59f2370c2c",
   "metadata": {},
   "outputs": [],
   "source": [
    "# Ensure each review has a string value. In the original dataset, some reviews are empty.\n",
    "robloxData['review_text'] = robloxData['review_text'].fillna('').astype(str)"
   ]
  },
  {
   "cell_type": "code",
   "execution_count": null,
   "id": "0c756118-50b6-45e0-8d8b-d5077bc4a996",
   "metadata": {},
   "outputs": [],
   "source": [
    "# Adjust the formatting of the timestamp\n",
    "robloxData['review_timestamp'] = pd.to_datetime(robloxData['review_timestamp'], errors='raise')"
   ]
  },
  {
   "cell_type": "code",
   "execution_count": null,
   "id": "d6e21ab3-9bdb-4acd-b509-a3145fe1a4ba",
   "metadata": {},
   "outputs": [],
   "source": [
    "# Extract features from timestamp\n",
    "robloxData['review_hour'] = robloxData['review_timestamp'].dt.hour\n",
    "robloxData['review_day'] = robloxData['review_timestamp'].dt.dayofweek"
   ]
  },
  {
   "cell_type": "markdown",
   "id": "af919882-7315-403a-844a-1cb8700ec7ed",
   "metadata": {},
   "source": [
    "## 1. Most common words\n",
    "What are the most common words reviewers use when assessing Roblox?"
   ]
  },
  {
   "cell_type": "markdown",
   "id": "3323dda5-2ee3-4b7c-ac73-abcb7dce0688",
   "metadata": {},
   "source": [
    "***\n",
    "Cleaning the review column:"
   ]
  },
  {
   "cell_type": "code",
   "execution_count": null,
   "id": "656c2367-7ae4-4679-93fc-cd50b83da624",
   "metadata": {},
   "outputs": [],
   "source": [
    "nltk.download('stopwords')"
   ]
  },
  {
   "cell_type": "code",
   "execution_count": null,
   "id": "d3bc559d-df5f-4223-b979-3e23d7791002",
   "metadata": {},
   "outputs": [],
   "source": [
    "from nltk.corpus import stopwords\n",
    "stopw = stopwords.words('english')"
   ]
  },
  {
   "cell_type": "code",
   "execution_count": null,
   "id": "bbdd6c42-385d-47a3-8807-888d4345b180",
   "metadata": {},
   "outputs": [],
   "source": [
    "# Change review text to lowercase\n",
    "robloxData['simple_review'] = robloxData['review_text'].apply(lambda x: \" \".join(x.lower() for x in x.split()))"
   ]
  },
  {
   "cell_type": "code",
   "execution_count": null,
   "id": "58f20d66-4986-40cf-99aa-f14f0dd520a2",
   "metadata": {},
   "outputs": [],
   "source": [
    "# Remove stopwords\n",
    "robloxData['simple_review'] = robloxData['simple_review'].apply(lambda x: \" \".join(x for x in x.split() if x not in stopw))"
   ]
  },
  {
   "cell_type": "code",
   "execution_count": null,
   "id": "8bbbafa3-b350-4d89-973d-0c1f8d2c2d1d",
   "metadata": {},
   "outputs": [],
   "source": [
    "# Adding extra stopwords to further filter the reviews\n",
    "extra_stopw = [\n",
    "    'really',\n",
    "    'get',\n",
    "    'ever',\n",
    "    'much',\n",
    "    'many',\n",
    "    'please',\n",
    "    'play',\n",
    "    'playing',\n",
    "    'make',\n",
    "    'app',\n",
    "    'i\\'m',\n",
    "    'im',\n",
    "    'even',\n",
    "    'give',\n",
    "    'got',\n",
    "    'u',\n",
    "    'one',\n",
    "    'can\\'t',\n",
    "    'people',\n",
    "    'want',\n",
    "    'also',\n",
    "    'lot',\n",
    "    'would',\n",
    "    'still',\n",
    "    'every',\n",
    "    'thing',\n",
    "    'try',\n",
    "    'need',\n",
    "    'game',\n",
    "    'games',\n",
    "    'roblox'\n",
    "]"
   ]
  },
  {
   "cell_type": "code",
   "execution_count": null,
   "id": "5dcd1cde-e5d3-4137-89b8-ce1613db3cfa",
   "metadata": {},
   "outputs": [],
   "source": [
    "# Removing the extra stopwords from the reviews\n",
    "robloxData['simpler_review'] = robloxData['simple_review'].apply(lambda x: \" \".join(x for x in x.split() if x not in extra_stopw))"
   ]
  },
  {
   "cell_type": "code",
   "execution_count": null,
   "id": "069d3a12-8272-43a1-880c-a962806a9422",
   "metadata": {},
   "outputs": [],
   "source": [
    "# Remove punctuation\n",
    "def remove_punctuation(text):\n",
    "    return text.translate(str.maketrans('', '', string.punctuation))\n",
    "\n",
    "import string\n",
    "robloxData['simple_review'] = robloxData['simple_review'].apply(lambda x: remove_punctuation(x))\n",
    "robloxData[['simple_review']].head()"
   ]
  },
  {
   "cell_type": "code",
   "execution_count": null,
   "id": "5c928ed0-af6b-4399-8323-8942c92283b1",
   "metadata": {},
   "outputs": [],
   "source": [
    "# Lemmatization\n",
    "robloxData['simpler_review'] = robloxData['simpler_review'].apply(lambda x: \" \".join([Word(word).lemmatize() for word in x.split()]))"
   ]
  },
  {
   "cell_type": "markdown",
   "id": "445266e2-d338-4151-98ee-392387541cb5",
   "metadata": {},
   "source": [
    "***\n",
    "Calculating word frequencies:"
   ]
  },
  {
   "cell_type": "code",
   "execution_count": null,
   "id": "ddd0a244-82db-4e99-8509-522a7a1dbefe",
   "metadata": {},
   "outputs": [],
   "source": [
    "# Create a new dataframe that takes each word from a review individually and adds instances of unique words\n",
    "wordFreq = robloxData['simpler_review'].str.split().explode().value_counts()"
   ]
  },
  {
   "cell_type": "code",
   "execution_count": null,
   "id": "7529b587-63ef-4792-80a6-cbfb35ec58d8",
   "metadata": {},
   "outputs": [],
   "source": [
    "# Convert the word counts to a dataframe\n",
    "wordFreqDf = wordFreq.reset_index()\n",
    "wordFreqDf.columns = ['Word', 'Count']"
   ]
  },
  {
   "cell_type": "code",
   "execution_count": null,
   "id": "2b23d1a5-fd32-4f5f-8a11-5a3e627010f6",
   "metadata": {},
   "outputs": [],
   "source": [
    "# Create a new dataframe with just the top most frequent words\n",
    "topWords = wordFreqDf.head(10)"
   ]
  },
  {
   "cell_type": "code",
   "execution_count": null,
   "id": "c9a62221-df3e-4595-a61a-6bb5469f428d",
   "metadata": {},
   "outputs": [],
   "source": [
    "# Format and display the top words dataframe\n",
    "topWords.style.format({\"Count\": \"{:,}\"})"
   ]
  },
  {
   "cell_type": "code",
   "execution_count": null,
   "id": "0cc13545-d35f-4c2e-b0bd-77a30d5525c1",
   "metadata": {},
   "outputs": [],
   "source": [
    "# Displaying the first 30 reviews that contain the word \" \"\n",
    "#pd.set_option('display.max_colwidth', 50)\n",
    "#robloxData[robloxData['simpler_review'].str.contains('update', case=False, na=False)][['simpler_review']].head(30)"
   ]
  },
  {
   "cell_type": "markdown",
   "id": "e451d50f-5c57-42dd-b244-d0afedb1163f",
   "metadata": {},
   "source": [
    "## 2. Common words amongst the top 100 most-liked reviews"
   ]
  },
  {
   "cell_type": "code",
   "execution_count": null,
   "id": "30c0e827-8908-4068-a62c-a7098b476509",
   "metadata": {},
   "outputs": [],
   "source": [
    "# Create a dataframe that contains only the top 100 most-liked reviews\n",
    "topReviews = robloxData.sort_values(by='review_likes', ascending=False).head(100)"
   ]
  },
  {
   "cell_type": "code",
   "execution_count": null,
   "id": "47835ff9-cd06-49d4-a712-8f92957088cb",
   "metadata": {},
   "outputs": [],
   "source": [
    "topLikedFreq = topReviews['simpler_review'].str.split().explode().value_counts().reset_index().head(10)"
   ]
  },
  {
   "cell_type": "code",
   "execution_count": null,
   "id": "32c5c195-5815-44e9-a58b-97e8307b4d5c",
   "metadata": {},
   "outputs": [],
   "source": [
    "topLikedFreq.style.format({\"Count\": \"{:,}\"})"
   ]
  },
  {
   "cell_type": "markdown",
   "id": "fe7cb7d3-5c39-4f3e-b59c-f130bb7fab55",
   "metadata": {},
   "source": [
    "## 3. Is there a relationship between the length of a review and its rating?"
   ]
  },
  {
   "cell_type": "code",
   "execution_count": null,
   "id": "036ca334-560e-4636-a57c-ac6b464eefde",
   "metadata": {},
   "outputs": [],
   "source": [
    "# Create a new column to represent the length of reviews\n",
    "robloxData['review_length'] = robloxData['review_text'].apply(len)"
   ]
  },
  {
   "cell_type": "code",
   "execution_count": null,
   "id": "b14225b8-2a54-45cd-925d-21d5526efb62",
   "metadata": {},
   "outputs": [],
   "source": [
    "# Group by review rating, display the review length column, \n",
    "# and find the mean of the review length for each review rating. Then reset the indices\n",
    "# to display as if it were its own dataframe.\n",
    "robloxData.groupby('review_rating')['review_length'].mean().reset_index(name='avg_rvw_len')"
   ]
  },
  {
   "cell_type": "code",
   "execution_count": null,
   "id": "ade91ffb-9972-4abc-b1c8-2ae6f2d3613a",
   "metadata": {},
   "outputs": [],
   "source": [
    "# Determining if the results are statistically significant using a one-way ANOVA test\n",
    "import scipy.stats as stats\n",
    "\n",
    "# Group data by the review rating\n",
    "    # Get all unique values in the review_rating col\n",
    "    # Filter dataframe to only include rows with rating and select review_rating col\n",
    "    # Iterate over each unique rating and create a list of review_length values for each group\n",
    "ratingGroups = [robloxData[robloxData['review_rating'] == rating]['review_length'] for rating in robloxData['review_rating'].unique()]\n",
    "\n",
    "# Perform one-way ANOVA\n",
    "f_stat, p_val = stats.f_oneway(*ratingGroups)\n",
    "\n",
    "print(\"F-statistic: \", f_stat)\n",
    "print(\"P-value: \", p_val)\n",
    "\n",
    "alpha = 0.05\n",
    "if p_val < alpha:\n",
    "    print(\"The differences in average review length across different review ratings are statistically significant.\")\n",
    "else:\n",
    "    print(\"The differences in average review length across different review ratings are not statistically significant.\")"
   ]
  },
  {
   "cell_type": "markdown",
   "id": "f6db7f87-4c57-404e-a95d-519a6b808029",
   "metadata": {},
   "source": [
    "### Conclusion\n",
    "The differences between the average lengths of reviews across the ratings are statistically significant. This indicates that users who are highly satisfied with the app, giving it a rating of 5, tend to write shorter reviews. Users who are more neutral or moderately satisfied with the app, giving it a rating of 3, tend to write longer reviews."
   ]
  },
  {
   "cell_type": "markdown",
   "id": "0bd0fa8a-51ac-4f6d-a74b-927ef0ba7229",
   "metadata": {},
   "source": [
    "## 4. Does the time of day the review is posted have an affect on the sentiment of the review?"
   ]
  },
  {
   "cell_type": "markdown",
   "id": "9c8468fb-c639-4034-a7e2-dfd7780ba7e0",
   "metadata": {},
   "source": [
    "***\n",
    "Assessing sentiment of the reviews:"
   ]
  },
  {
   "cell_type": "code",
   "execution_count": null,
   "id": "2f9ad701-52d8-4198-98f3-79515bfc2b5e",
   "metadata": {},
   "outputs": [],
   "source": [
    "# Function to calculate sentiment polarity\n",
    "def get_sentiment(text):\n",
    "    return round(TextBlob(text).sentiment.polarity, 2)"
   ]
  },
  {
   "cell_type": "code",
   "execution_count": null,
   "id": "fb17abdd-b2f9-4df4-b83b-63d78ca3a117",
   "metadata": {},
   "outputs": [],
   "source": [
    "# Calculate the sentiment of each review\n",
    "robloxData['sentiment'] = robloxData['simple_review'].apply(get_sentiment)"
   ]
  },
  {
   "cell_type": "code",
   "execution_count": null,
   "id": "22a180bb-1a6c-4f56-98ab-7acdb587e131",
   "metadata": {},
   "outputs": [],
   "source": [
    "# Add column for qualitative sentiment value\n",
    "def getAnalysis(score):\n",
    "    if score < 0:\n",
    "        return 'Negative'\n",
    "    elif score == 0:\n",
    "        return 'Neutral'\n",
    "    else:\n",
    "        return 'Positive'\n",
    "\n",
    "robloxData['sent_simple'] = robloxData['sentiment'].apply(getAnalysis)"
   ]
  },
  {
   "cell_type": "code",
   "execution_count": null,
   "id": "8a9986d2-9f0e-4e1e-ad73-5c98764b5055",
   "metadata": {},
   "outputs": [],
   "source": [
    "# Assess sentiment counts for specific words\n",
    "#robloxData[robloxData['simpler_review'].str.contains(\"robux\", case=False, na=False)].groupby('sent_simple').size().reset_index(name='counts')"
   ]
  },
  {
   "cell_type": "markdown",
   "id": "82116c1c-dc5e-463d-8c16-76bd2de87b2e",
   "metadata": {},
   "source": [
    "****\n",
    "Calculating and applying sentiment polarity and quantifiers:"
   ]
  },
  {
   "cell_type": "code",
   "execution_count": null,
   "id": "541dd8d9-3402-4d18-be41-b95ec134d871",
   "metadata": {},
   "outputs": [],
   "source": [
    "# Display the number of negative, neutral, and positive reviews\n",
    "sentimentSummary = robloxData[['sent_simple', 'simpler_review']].groupby(by='sent_simple').count()\n",
    "sentimentSummary.style.format(\"{:,}\")"
   ]
  },
  {
   "cell_type": "markdown",
   "id": "178c08a1-9951-450b-9219-d263e878c363",
   "metadata": {},
   "source": [
    "***\n",
    "Classifying the times of day:"
   ]
  },
  {
   "cell_type": "code",
   "execution_count": null,
   "id": "15c7a07c-8b80-478a-844b-034459144703",
   "metadata": {},
   "outputs": [],
   "source": [
    "# Create categories for the periods of a day\n",
    "def classifyPeriodOfDay(datetime):\n",
    "    hour = datetime.hour\n",
    "    if 5 <= hour < 12:\n",
    "        return \"Morning\"\n",
    "    elif 12 <= hour < 17:\n",
    "        return \"Afternoon\"\n",
    "    elif 17 <= hour < 21:\n",
    "        return \"Evening\"\n",
    "    else:\n",
    "        return \"Night\"\n",
    "\n",
    "periodOrder = ['Morning', 'Afternoon', 'Evening', 'Night']"
   ]
  },
  {
   "cell_type": "code",
   "execution_count": null,
   "id": "414145df-c31d-4a24-87ec-86b2cec6ea43",
   "metadata": {},
   "outputs": [],
   "source": [
    "# Categorize reviews by the time of day they were posted\n",
    "robloxData['day_period'] = robloxData['review_timestamp'].apply(classifyPeriodOfDay)"
   ]
  },
  {
   "cell_type": "markdown",
   "id": "c1c24a14-7660-45c5-92c2-52bbf9606ab2",
   "metadata": {},
   "source": [
    "***\n",
    "Creating a new dataframe with specific variables and plotting it:"
   ]
  },
  {
   "cell_type": "code",
   "execution_count": null,
   "id": "55ab76ff-3654-46f6-b959-6d0a7278f903",
   "metadata": {},
   "outputs": [],
   "source": [
    "# Create a new dataframe for only the variables needed\n",
    "todSentPlot = robloxData[['review_timestamp', 'day_period', 'sent_simple']]\n",
    "\n",
    "# Ensure the day periods remain in a specific order\n",
    "todSentPlot['day_period'] = pd.Categorical(todSentPlot['day_period'], categories=periodOrder, ordered=True)\n",
    "\n",
    "# Plot\n",
    "p1 = todSentPlot.groupby(['day_period', 'sent_simple']).size().unstack(fill_value=0).plot(kind='bar', figsize=(10, 6));\n",
    "\n",
    "plt.title('Sentiment Counts by Period of Day')\n",
    "plt.xlabel('Period of Day')\n",
    "plt.ylabel('Review Count by Sentiments')\n",
    "plt.xticks(rotation=0)  # Set x-axis labels to horizontal\n",
    "plt.legend(title='Sentiment', bbox_to_anchor=(1.05, 1), loc='upper left')\n",
    "\n",
    "plt.tight_layout()\n",
    "plt.show()"
   ]
  },
  {
   "cell_type": "markdown",
   "id": "c2898c1c-8d93-48ad-9b5d-a48e18b8cc92",
   "metadata": {},
   "source": [
    "***\n",
    "Bar chart only looking at neutral and negative reviews:"
   ]
  },
  {
   "cell_type": "code",
   "execution_count": null,
   "id": "24f61061-8274-4af9-87bd-a5826cdee02f",
   "metadata": {},
   "outputs": [],
   "source": [
    "# Making a new dataframe that excludes reviews labeled as positive\n",
    "robloxDataNoPos = robloxData[robloxData['sent_simple'] != 'Positive'].copy()"
   ]
  },
  {
   "cell_type": "code",
   "execution_count": null,
   "id": "9af7cec6-c36d-4462-b5dd-9b23ad1a52e4",
   "metadata": {},
   "outputs": [],
   "source": [
    "# Create a new dataframe for only the variables needed\n",
    "todSentPlot = robloxDataNoPos[['review_timestamp', 'day_period', 'sent_simple']]\n",
    "\n",
    "# Ensure the day periods remain in a specific order\n",
    "todSentPlot['day_period'] = pd.Categorical(todSentPlot['day_period'], categories=periodOrder, ordered=True)\n",
    "\n",
    "# Plot\n",
    "p1 = todSentPlot.groupby(['day_period', 'sent_simple']).size().unstack(fill_value=0).plot(kind='bar', figsize=(8, 3));\n",
    "\n",
    "plt.title('Sentiment Counts by Period of Day')\n",
    "plt.xlabel('Period of Day')\n",
    "plt.ylabel('Review Count by Sentiments')\n",
    "plt.xticks(rotation=0)  # Set x-axis labels to horizontal\n",
    "plt.legend(title='Sentiment', bbox_to_anchor=(1.05, 1), loc='upper left')\n",
    "\n",
    "plt.tight_layout()\n",
    "plt.show()"
   ]
  },
  {
   "cell_type": "markdown",
   "id": "b63f208e-ac81-4208-aac3-c5a5418594d9",
   "metadata": {},
   "source": [
    "## 5. Attitudes toward app versions"
   ]
  },
  {
   "cell_type": "code",
   "execution_count": null,
   "id": "e5e780d9-0f9b-48b4-a9f8-934f9de0e687",
   "metadata": {},
   "outputs": [],
   "source": [
    "# Clipping the app versions\n",
    "robloxData['app_version_simple'] = robloxData['author_app_version'].str[:5]\n",
    "\n",
    "# Grouping by app version and rating\n",
    "versionRating = robloxData.groupby('app_version_simple')['review_rating'].mean().reset_index().round(2)"
   ]
  },
  {
   "cell_type": "code",
   "execution_count": null,
   "id": "60758c3a-8f55-422a-bb4a-34114a6b723c",
   "metadata": {},
   "outputs": [],
   "source": [
    "# Plot a line graph\n",
    "versionRatingGraph = versionRating.plot(\n",
    "    'app_version_simple',\n",
    "    'review_rating',\n",
    "    figsize=(10, 3),\n",
    "    title='Roblox Ratings Across Version Updates',\n",
    "    yticks=np.arange(1, 5.5, 0.5),\n",
    "    xlabel='App Version (Truncated)',\n",
    "    ylabel='Average App Rating',\n",
    "    grid=True\n",
    ");"
   ]
  },
  {
   "cell_type": "markdown",
   "id": "fa3d66f6-66c6-4451-91ea-436b0b6c3ef4",
   "metadata": {},
   "source": [
    "## 6. Ratings over time"
   ]
  },
  {
   "cell_type": "code",
   "execution_count": null,
   "id": "9f336238-8ed6-4eb2-813c-05a302041c87",
   "metadata": {},
   "outputs": [],
   "source": [
    "# Grouping by time and rating\n",
    "timeRating = robloxData.groupby('review_timestamp')['review_rating'].mean().reset_index().round(2)\n",
    "\n",
    "# Plot a line graph\n",
    "versionRatingGraph = versionRating.plot();"
   ]
  },
  {
   "cell_type": "code",
   "execution_count": null,
   "id": "0890e52d-cd55-4c47-a942-809a35a34587",
   "metadata": {},
   "outputs": [],
   "source": [
    "# Grouping the data by year and month\n",
    "robloxData['year_month'] = robloxData['review_timestamp'].dt.to_period('M')\n",
    "monthly_avg_ratings = robloxData.groupby('year_month')['review_rating'].mean().reset_index()\n",
    "\n",
    "# Convert the 'year_month' back to a datetime format for plotting\n",
    "monthly_avg_ratings['year_month'] = monthly_avg_ratings['year_month'].dt.to_timestamp()\n",
    "\n",
    "# Plot the data\n",
    "plt.figure(figsize=(12, 6))\n",
    "plt.plot(monthly_avg_ratings['year_month'], monthly_avg_ratings['review_rating'], marker='o')\n",
    "plt.title('Average App Rating Over Time (Monthly)')\n",
    "plt.xlabel('Date')\n",
    "plt.ylabel('Average Rating')\n",
    "#plt.ylim(1, 5)\n",
    "#plt.ylim(4, 5)\n",
    "plt.grid(True)\n",
    "plt.xticks(rotation=45)\n",
    "plt.tight_layout()\n",
    "plt.show()"
   ]
  },
  {
   "cell_type": "code",
   "execution_count": null,
   "id": "592153d6-d29c-45d3-9030-9eec13910c60",
   "metadata": {},
   "outputs": [],
   "source": [
    "# Group by year, month, and day and calculate the mean rating for each group\n",
    "robloxData['year_month_day'] = robloxData['review_timestamp'].dt.to_period('D')\n",
    "daily_avg_ratings = robloxData.groupby('year_month_day')['review_rating'].mean().reset_index()\n",
    "\n",
    "# Convert the 'year_month_day' back to a datetime format for plotting\n",
    "daily_avg_ratings['year_month_day'] = daily_avg_ratings['year_month_day'].dt.to_timestamp()\n",
    "\n",
    "# Plot the data\n",
    "plt.figure(figsize=(12, 6))\n",
    "plt.plot(daily_avg_ratings['year_month_day'], daily_avg_ratings['review_rating'])\n",
    "plt.title('Average App Rating Over Time (Daily)')\n",
    "plt.xlabel('Date')\n",
    "plt.ylabel('Average Rating')\n",
    "plt.ylim(1, 5)\n",
    "plt.grid(True)\n",
    "plt.xticks(rotation=45)\n",
    "plt.tight_layout()\n",
    "plt.show()"
   ]
  },
  {
   "cell_type": "code",
   "execution_count": null,
   "id": "23222f32-df4a-4078-a063-6762951f7196",
   "metadata": {},
   "outputs": [],
   "source": []
  }
 ],
 "metadata": {
  "kernelspec": {
   "display_name": "Python 3 (ipykernel)",
   "language": "python",
   "name": "python3"
  },
  "language_info": {
   "codemirror_mode": {
    "name": "ipython",
    "version": 3
   },
   "file_extension": ".py",
   "mimetype": "text/x-python",
   "name": "python",
   "nbconvert_exporter": "python",
   "pygments_lexer": "ipython3",
   "version": "3.11.0rc1"
  }
 },
 "nbformat": 4,
 "nbformat_minor": 5
}
